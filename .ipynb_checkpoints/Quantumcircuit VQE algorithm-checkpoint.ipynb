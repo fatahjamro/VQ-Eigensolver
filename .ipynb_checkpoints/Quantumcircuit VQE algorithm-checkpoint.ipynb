{
 "cells": [
  {
   "cell_type": "markdown",
   "id": "e0811aa6",
   "metadata": {},
   "source": [
    "**Qiskit practice with jupyter notebook to reach VQE algorithm for quantum state preparation or qubit**\n",
    " \n",
    " I practice here to run qiskit package unsing jupyter notebook.\n",
    " instead of importing everything of qiskit we just import what is needed\n",
    " \n",
    "Quantum state preparation entails taking a quantum system from one state to another, like taking a system with qubits all set to |0>, and putting it into a known but arbitrary state. This can be far more challenging than merely setting the values of qubits, however. Quantum state preparation is a fundamental element of quantum computation, but it can be very difficult in practice.\n",
    "\n",
    "\n",
    "The highly frustrated ground state of a Heisenberg spin-1/2 model on a Kagome lattice using the Variational Quantum Eigensolver (VQE) algorithm. This may sound like a mouthful, but it is rich with interesting physics. The Kagome lattice is a tessallation of hexagons and triangles. While there are many crystaline lattices found in nature, the Kagome lattice is instead one that scientists work to simulate in labs to study their quantum properties. The lattice is rich with interesting physics: the magnetic spins of its component particles are subject to competing forces due to its structure, causing the whole system to take on strange macroscopic behaviors.\n",
    "\n",
    "You will implement the VQE algorithm on an IBM Quantum Falcon heavy-hex device with 16 qubits. This is the largest device used in an Open Science Prize to date and of course, working with more qubits presents its own challenges. But don’t be intimidated. We have included a list of resources to help you get started in the template notebook.\n"
   ]
  },
  {
   "cell_type": "code",
   "execution_count": 26,
   "id": "0df5f402",
   "metadata": {},
   "outputs": [],
   "source": [
    "    # importing NumPy package for mathematics work\n",
    "    # importing QuantumCircuit for circuit information only from qiskit package.\n",
    "import numpy as np\n",
    "from qiskit import QuantumCircuit\n",
    "\n",
    "\n"
   ]
  },
  {
   "cell_type": "code",
   "execution_count": 38,
   "id": "ae7fbab2",
   "metadata": {},
   "outputs": [
    {
     "data": {
      "text/html": [
       "<pre style=\"word-wrap: normal;white-space: pre;background: #fff0;line-height: 1.1;font-family: &quot;Courier New&quot;,Courier,monospace\">     ┌───┐┌─┐\n",
       "  q: ┤ H ├┤M├\n",
       "     └───┘└╥┘\n",
       "c: 1/══════╩═\n",
       "           0 </pre>"
      ],
      "text/plain": [
       "     ┌───┐┌─┐\n",
       "  q: ┤ H ├┤M├\n",
       "     └───┘└╥┘\n",
       "c: 1/══════╩═\n",
       "           0 "
      ]
     },
     "execution_count": 38,
     "metadata": {},
     "output_type": "execute_result"
    }
   ],
   "source": [
    "    # defining qc variable for quantumcircuit of one qubit and one binary bit i.e (1,1)\n",
    "\n",
    "qc = QuantumCircuit(1,1)\n",
    "\n",
    "    # applying hadamard gate (superposition) on that only qubit circuit.\n",
    "    # we always initialise the qubit from zero state.\n",
    "\n",
    "qc.h(0)\n",
    "\n",
    "    # we measure that 1 qubit and get result with 1 binary bit (classical bit)\n",
    "    # after measuring the qubit's superposition state will collapse.\n",
    "\n",
    "qc.measure(0,0)\n",
    "\n",
    "    # Finaly we draw that quantum circuit by following command.\n",
    "\n",
    "qc.draw()\n",
    "\n",
    "    # In circuit diagram, line with q is qubit and boxes are the operations performed on that qubit.\n",
    "    # H is H gate and M is measurement. \n",
    "    # double line with c show classical bit, \" 1/ \" show number of classical bits.\n",
    "    # qubits' measurement is always represented on classical bits."
   ]
  },
  {
   "cell_type": "code",
   "execution_count": 28,
   "id": "a16bc0fd",
   "metadata": {},
   "outputs": [
    {
     "data": {
      "text/html": [
       "<pre style=\"word-wrap: normal;white-space: pre;background: #fff0;line-height: 1.1;font-family: &quot;Courier New&quot;,Courier,monospace\">     ┌───┐     ┌─┐   \n",
       "q_0: ┤ H ├─────┤M├───\n",
       "     ├───┤┌───┐└╥┘┌─┐\n",
       "q_1: ┤ H ├┤ X ├─╫─┤M├\n",
       "     └───┘└───┘ ║ └╥┘\n",
       "c: 2/═══════════╩══╩═\n",
       "                1  1 </pre>"
      ],
      "text/plain": [
       "     ┌───┐     ┌─┐   \n",
       "q_0: ┤ H ├─────┤M├───\n",
       "     ├───┤┌───┐└╥┘┌─┐\n",
       "q_1: ┤ H ├┤ X ├─╫─┤M├\n",
       "     └───┘└───┘ ║ └╥┘\n",
       "c: 2/═══════════╩══╩═\n",
       "                1  1 "
      ]
     },
     "execution_count": 28,
     "metadata": {},
     "output_type": "execute_result"
    }
   ],
   "source": [
    "    ''' An other circuit with variable qc2 with contains 2 qubits and 2 classical bits (2,2)\n",
    "    On 1st qubit (0) in quantum circuit qc2 we apply H gate.\n",
    "    On 2nd qubit (1) we also apply H gate, after that we apply X gate on it.\n",
    "    Then we maeasure both qubits [qubit0,qubit1] and show results on classical bits [0,1]\n",
    "    Finally we draw the circuit (qc2)'''\n",
    "\n",
    "    qc2 = QuantumCircuit(2,2)\n",
    "qc2.h(0)\n",
    "qc2.h(1)\n",
    "qc2.x(1)\n",
    "qc2.measure([0,1],[1,1])\n",
    "qc2.draw()"
   ]
  },
  {
   "cell_type": "markdown",
   "id": "bbf427f4",
   "metadata": {},
   "source": [
    "**Simulators overview** https://quantum-computing.ibm.com/lab/docs/iql/manage/simulator/#simulators-overview\n",
    "\n",
    "**AerSimulator**\n",
    "Backend simulator of real noisy quantum computers.\n",
    "\n",
    "**Aer is a high performance simulator for quantum circuits that includes noise models**\n",
    "\n",
    "Here we import BasicAer function from qiskit which is called as AerSimulater.\n",
    "It run the circuit on CPU instead of quantum processor unit. but cpu's or sometimes gpu's are set to behave like backend quantum processers with similar noisy results."
   ]
  },
  {
   "attachments": {},
   "cell_type": "markdown",
   "id": "ebd5f1cc",
   "metadata": {},
   "source": [
    "**Transpile = process of rewritting** https://qiskit.org/documentation/apidoc/transpiler.html\n",
    "\n",
    "It is the process of coding in which gates are transpiled or changed to machine language understanable instructions to perform a task. "
   ]
  },
  {
   "cell_type": "code",
   "execution_count": 39,
   "id": "81673f39",
   "metadata": {},
   "outputs": [],
   "source": [
    "from qiskit import BasicAer\n",
    "\n",
    "from qiskit import Aer, transpile\n",
    "from qiskit.tools.visualization import plot_histogram, plot_state_city\n",
    "import qiskit.quantum_info as qi\n"
   ]
  },
  {
   "cell_type": "code",
   "execution_count": 40,
   "id": "0ee8c7e1",
   "metadata": {},
   "outputs": [
    {
     "data": {
      "text/plain": [
       "[AerSimulator('aer_simulator'),\n",
       " AerSimulator('aer_simulator_statevector'),\n",
       " AerSimulator('aer_simulator_density_matrix'),\n",
       " AerSimulator('aer_simulator_stabilizer'),\n",
       " AerSimulator('aer_simulator_matrix_product_state'),\n",
       " AerSimulator('aer_simulator_extended_stabilizer'),\n",
       " AerSimulator('aer_simulator_unitary'),\n",
       " AerSimulator('aer_simulator_superop'),\n",
       " QasmSimulator('qasm_simulator'),\n",
       " StatevectorSimulator('statevector_simulator'),\n",
       " UnitarySimulator('unitary_simulator'),\n",
       " PulseSimulator('pulse_simulator')]"
      ]
     },
     "execution_count": 40,
     "metadata": {},
     "output_type": "execute_result"
    }
   ],
   "source": [
    "#to see backend simulators\n",
    "Aer.backends()"
   ]
  },
  {
   "cell_type": "code",
   "execution_count": 41,
   "id": "d123ee04",
   "metadata": {},
   "outputs": [],
   "source": [
    "qc2 = QuantumCircuit(2,2)\n",
    "qc2.h(0)\n",
    "qc2.h(1)\n",
    "#qc2.h(1)\n",
    "qc2.measure([0,1],[1,1])\n",
    "#qc2.draw()\n",
    "# Transpile for simulator\n",
    "simulator = Aer.get_backend('aer_simulator')\n",
    "qc2 = transpile(qc2, simulator)"
   ]
  },
  {
   "cell_type": "code",
   "execution_count": 42,
   "id": "3f389414",
   "metadata": {},
   "outputs": [
    {
     "data": {
      "image/png": "[encoded data removed]",
      "text/plain": [
       "<Figure size 700x500 with 1 Axes>"
      ]
     },
     "execution_count": 42,
     "metadata": {},
     "output_type": "execute_result"
    }
   ],
   "source": [
    "# Run and get counts\n",
    "result = simulator.run(qc2).result()\n",
    "counts = result.get_counts(qc2)\n",
    "plot_histogram(counts, title='Bell-State counts')"
   ]
  },
  {
   "cell_type": "code",
   "execution_count": null,
   "id": "7c498abf",
   "metadata": {},
   "outputs": [],
   "source": []
  }
 ],
 "metadata": {
  "kernelspec": {
   "display_name": "Python 3 (ipykernel)",
   "language": "python",
   "name": "python3"
  },
  "language_info": {
   "codemirror_mode": {
    "name": "ipython",
    "version": 3
   },
   "file_extension": ".py",
   "mimetype": "text/x-python",
   "name": "python",
   "nbconvert_exporter": "python",
   "pygments_lexer": "ipython3",
   "version": "3.9.15"
  }
 },
 "nbformat": 4,
 "nbformat_minor": 5
}
